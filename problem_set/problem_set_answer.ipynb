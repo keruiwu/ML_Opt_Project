{
 "cells": [
  {
   "cell_type": "markdown",
   "id": "a85fefe6-e3e9-44b2-9bdc-fc03d30080b6",
   "metadata": {},
   "source": [
    "# LoRA on MNIST  \n",
    "1. Build an MLP. Train this model to perform well on MNIST 0-4 (half of the data).\n",
    "3. Use standard finetuning approach to train this model to work on MNIST 5-9 (this will act as our baseline)\n",
    "4. Use LoRA finetuning to train the original model to work on MNIST 5-9\n",
    "5. Compare finetuning techniques (performance, memory etc)\n"
   ]
  },
  {
   "cell_type": "markdown",
   "id": "37e02a5d-8dd2-4361-b7cf-9d33b025a410",
   "metadata": {},
   "source": [
    "Sources:\n",
    "1. https://arxiv.org/abs/2106.09685 - LoRA paper\n",
    "2. https://lightning.ai/pages/community/tutorial/lora-llm/ - (The first half offers useful starter pseudocode)\n",
    "3. https://colab.research.google.com/drive/1iERDk94Jp0UErsPf7vXyPKeiM4ZJUQ-a?usp=sharing#scrollTo=WuK0lPwcB7Ia - had some good ideas on metrics to compute about LoRA-ized model\n",
    "4. https://lightning.ai/docs/pytorch/stable/notebooks/lightning_examples/mnist-hello-world.html - starter code for building an MLP and training on MNIST\n",
    "5. https://discuss.pytorch.org/t/how-to-use-one-class-of-number-in-mnist/26276/21 - forum post on how to limit MNIST to only first or second half"
   ]
  },
  {
   "cell_type": "code",
   "execution_count": 1,
   "id": "423b1158-1d05-4a05-b5b2-f5a0edc9ba88",
   "metadata": {},
   "outputs": [
    {
     "name": "stderr",
     "output_type": "stream",
     "text": [
      "Seed set to 42\n"
     ]
    },
    {
     "data": {
      "text/plain": [
       "42"
      ]
     },
     "execution_count": 1,
     "metadata": {},
     "output_type": "execute_result"
    }
   ],
   "source": [
    "import lightning as L\n",
    "from lightning.pytorch.loggers import CSVLogger\n",
    "from lightning.pytorch.callbacks import LearningRateFinder\n",
    "from lightning.pytorch.callbacks.early_stopping import EarlyStopping\n",
    "\n",
    "from pytorch_lightning import Callback\n",
    "import torch\n",
    "from torch import nn\n",
    "from torch.nn import functional as F\n",
    "from torch.utils.data import DataLoader, random_split\n",
    "from torch.utils.data.sampler import SubsetRandomSampler\n",
    "\n",
    "import torchvision\n",
    "from torchvision.datasets import MNIST\n",
    "from torchvision import transforms\n",
    "\n",
    "from torchmetrics import Accuracy\n",
    "\n",
    "import pandas as pd\n",
    "import seaborn as sn\n",
    "import math\n",
    "import matplotlib.pyplot as plt\n",
    "\n",
    "# set precision to what lightning suggests for this gpu\n",
    "torch.set_float32_matmul_precision('high')\n",
    "# make results reproducible\n",
    "L.seed_everything(42)"
   ]
  },
  {
   "cell_type": "code",
   "execution_count": 2,
   "id": "c9fd83ca-88db-4682-85e1-904d4f5df759",
   "metadata": {},
   "outputs": [],
   "source": [
    "# reserved for constants\n",
    "PATH_DATASETS = 'data'\n"
   ]
  },
  {
   "cell_type": "markdown",
   "id": "0d712261-bb19-459d-8272-b33e529bc613",
   "metadata": {},
   "source": [
    "Train an MLP on the first half of MNIST"
   ]
  },
  {
   "cell_type": "code",
   "execution_count": 4,
   "id": "27414d79-396d-460d-8700-aee7169c20bf",
   "metadata": {},
   "outputs": [],
   "source": [
    "class LitMNIST(L.LightningModule):\n",
    "    def __init__(self, data_dir=PATH_DATASETS, hidden_size=64, lr=2e-4):\n",
    "        super().__init__()\n",
    "\n",
    "        # Set our init args as class attributes\n",
    "        self.data_dir = data_dir\n",
    "        self.hidden_size = hidden_size\n",
    "        self.lr = lr\n",
    "\n",
    "        # Hardcode some dataset specific attributes\n",
    "        self.class_names = [0,1,2,3,4]\n",
    "        self.min_class = min(self.class_names)\n",
    "        self.num_classes = len(self.class_names) \n",
    "        self.dims = (1, 28, 28) # the shape of an example (C x W x H)\n",
    "        channels, width, height = self.dims\n",
    "\n",
    "        self.transform = transforms.Compose(\n",
    "            [\n",
    "                transforms.ToTensor(),\n",
    "                transforms.Normalize((0.1307,), (0.3081,)),\n",
    "            ]\n",
    "        )\n",
    "\n",
    "        self.batch_size = 1024\n",
    "\n",
    "        # Define layers for model\n",
    "        self.l1 = nn.Linear(channels * width * height, hidden_size)\n",
    "        self.l2 = nn.Linear(hidden_size, hidden_size)\n",
    "        self.l3 = nn.Linear(hidden_size, self.num_classes)\n",
    "\n",
    "        self.dropout = nn.Dropout(0.1)\n",
    "        self.relu = nn.ReLU()\n",
    "\n",
    "        \n",
    "        # Define metrics\n",
    "        self.val_accuracy = Accuracy(task=\"multiclass\", num_classes=self.num_classes)\n",
    "        self.test_accuracy = Accuracy(task=\"multiclass\", num_classes=self.num_classes)\n",
    "\n",
    "\n",
    "    def forward(self, x):\n",
    "        # preprocessing\n",
    "        x = torch.flatten(x,1)\n",
    "\n",
    "        # layer 1 (input size, hidden size)\n",
    "        x = self.l1(x)\n",
    "        x = self.relu(x)\n",
    "        x = self.dropout(x)\n",
    "\n",
    "        # layer 2 (hidden size, hidden size)\n",
    "        x = self.l2(x)\n",
    "        x = self.relu(x)\n",
    "        x = self.dropout(x)\n",
    "\n",
    "        #layer 3 (hidden size, self.num_classes)\n",
    "        x = self.l3(x)\n",
    "                    \n",
    "        # notice that we return the log probabilities here as that is what nll loss expects in the training step\n",
    "        return F.log_softmax(x, dim=1)\n",
    "\n",
    "    def common_step(self, batch, batch_idx):\n",
    "        # define steps all of {train, val, test} will take in one place\n",
    "        x, y = batch\n",
    "        # rescale y to be 0 indexed if necessary (like when we start using mnist 5-9)\n",
    "        if self.min_class != 0:\n",
    "            y = y - self.min_class\n",
    "        \n",
    "        logits = self(x)\n",
    "        loss = F.nll_loss(logits, y)\n",
    "        return x,y, logits, loss\n",
    "        \n",
    "        \n",
    "\n",
    "    def training_step(self, batch, batch_idx):\n",
    "        _, _, _, loss = self.common_step(batch, batch_idx)\n",
    "        self.log(\"train_loss\", loss, batch_size=self.batch_size)\n",
    "        return loss\n",
    "\n",
    "    def validation_step(self, batch, batch_idx):\n",
    "        \n",
    "        x, y, logits, loss = self.common_step(batch, batch_idx)\n",
    "        preds = torch.argmax(logits, dim=1)\n",
    "        self.val_accuracy.update(preds, y)\n",
    "\n",
    "        self.log(\"val_loss\", loss, prog_bar=True)\n",
    "        self.log(\"val_acc\", self.val_accuracy, prog_bar=True)\n",
    "\n",
    "    def test_step(self, batch, batch_idx):\n",
    "        x, y, logits, loss = self.common_step(batch, batch_idx)\n",
    "        preds = torch.argmax(logits, dim=1)\n",
    "        self.test_accuracy.update(preds, y)\n",
    "\n",
    "        self.log(\"test_loss\", loss, prog_bar=True)\n",
    "        self.log(\"test_acc\", self.test_accuracy, prog_bar=True)\n",
    "    \n",
    "    def configure_optimizers(self):\n",
    "        # we'll use adamw to match the paper\n",
    "        optimizer = torch.optim.AdamW(self.parameters(), lr=self.lr)\n",
    "        return optimizer\n",
    "\n",
    "    # the rest of the class is helper functions/hooks for configuring data/dataloader building\n",
    "    @staticmethod\n",
    "    def get_indices(dataset,class_names):\n",
    "        if isinstance(dataset, torch.utils.data.dataset.Subset):\n",
    "            targets = torch.tensor([dataset.dataset.targets[i] for i in dataset.indices])\n",
    "        else:\n",
    "            targets = dataset.targets\n",
    "\n",
    "            \n",
    "        indices =  []\n",
    "        for i in range(len(targets)):\n",
    "            if targets[i] in class_names:\n",
    "                indices.append(i)\n",
    "        return indices\n",
    "        \n",
    "    def create_dataloader(self,dataset):\n",
    "        idx = self.get_indices(dataset, self.class_names)\n",
    "        loader = DataLoader(dataset,batch_size=self.batch_size, sampler = SubsetRandomSampler(idx), num_workers=16) # Note - this necessarily shuffles the data due to the sampler we are using\n",
    "        return loader\n",
    "\n",
    "    def prepare_data(self):\n",
    "        # download data\n",
    "        MNIST(self.data_dir, train=True, download=True)\n",
    "        MNIST(self.data_dir, train=False, download=True)\n",
    "\n",
    "    def setup(self, stage=None):\n",
    "        # Assign train/val datasets for use in dataloaders\n",
    "        if stage == \"fit\" or stage is None:\n",
    "            mnist_full = MNIST(self.data_dir, train=True, transform=self.transform)\n",
    "            self.mnist_train, self.mnist_val = random_split(mnist_full, [55000, 5000])\n",
    "\n",
    "            \n",
    "\n",
    "        # Assign test dataset for use in dataloader(s)\n",
    "        if stage == \"test\" or stage is None:\n",
    "            self.mnist_test = MNIST(self.data_dir, train=False, transform=self.transform)\n",
    "\n",
    "\n",
    "    def train_dataloader(self):\n",
    "        return self.create_dataloader(self.mnist_train)\n",
    "\n",
    "    def val_dataloader(self):\n",
    "        return self.create_dataloader(self.mnist_val)\n",
    "\n",
    "    def test_dataloader(self):\n",
    "        return self.create_dataloader(self.mnist_test)\n",
    "\n",
    "        \n",
    "        \n",
    "\n",
    "        \n"
   ]
  },
  {
   "cell_type": "code",
   "execution_count": 6,
   "id": "dcea2f7d-cb12-44df-96b0-e832632e905f",
   "metadata": {
    "scrolled": true
   },
   "outputs": [
    {
     "name": "stderr",
     "output_type": "stream",
     "text": [
      "GPU available: True (mps), used: True\n",
      "TPU available: False, using: 0 TPU cores\n",
      "HPU available: False, using: 0 HPUs\n"
     ]
    },
    {
     "name": "stderr",
     "output_type": "stream",
     "text": [
      "\n",
      "  | Name          | Type               | Params | Mode \n",
      "-------------------------------------------------------------\n",
      "0 | l1            | Linear             | 50.2 K | train\n",
      "1 | l2            | Linear             | 4.2 K  | train\n",
      "2 | l3            | Linear             | 325    | train\n",
      "3 | dropout       | Dropout            | 0      | train\n",
      "4 | relu          | ReLU               | 0      | train\n",
      "5 | val_accuracy  | MulticlassAccuracy | 0      | train\n",
      "6 | test_accuracy | MulticlassAccuracy | 0      | train\n",
      "-------------------------------------------------------------\n",
      "54.7 K    Trainable params\n",
      "0         Non-trainable params\n",
      "54.7 K    Total params\n",
      "0.219     Total estimated model params size (MB)\n",
      "7         Modules in train mode\n",
      "0         Modules in eval mode\n"
     ]
    },
    {
     "name": "stdout",
     "output_type": "stream",
     "text": [
      "Epoch 9: 100%|██████████| 28/28 [00:24<00:00,  1.14it/s, v_num=1, val_loss=0.112, val_acc=0.967]"
     ]
    },
    {
     "name": "stderr",
     "output_type": "stream",
     "text": [
      "`Trainer.fit` stopped: `max_epochs=10` reached.\n"
     ]
    },
    {
     "name": "stdout",
     "output_type": "stream",
     "text": [
      "Epoch 9: 100%|██████████| 28/28 [00:24<00:00,  1.14it/s, v_num=1, val_loss=0.112, val_acc=0.967]\n"
     ]
    }
   ],
   "source": [
    "model = LitMNIST()\n",
    "trainer = L.Trainer(\n",
    "    accelerator=\"auto\",\n",
    "    devices=1,\n",
    "    max_epochs=10,\n",
    "    logger=CSVLogger(save_dir=\"logs/\"),\n",
    ")\n",
    "trainer.fit(model)"
   ]
  },
  {
   "cell_type": "code",
   "execution_count": 7,
   "id": "fa45d80a-ea43-41a5-a8f4-a60ac95717bb",
   "metadata": {},
   "outputs": [
    {
     "data": {
      "text/html": [
       "<div>\n",
       "<style scoped>\n",
       "    .dataframe tbody tr th:only-of-type {\n",
       "        vertical-align: middle;\n",
       "    }\n",
       "\n",
       "    .dataframe tbody tr th {\n",
       "        vertical-align: top;\n",
       "    }\n",
       "\n",
       "    .dataframe thead th {\n",
       "        text-align: right;\n",
       "    }\n",
       "</style>\n",
       "<table border=\"1\" class=\"dataframe\">\n",
       "  <thead>\n",
       "    <tr style=\"text-align: right;\">\n",
       "      <th></th>\n",
       "      <th>train_loss</th>\n",
       "      <th>val_acc</th>\n",
       "      <th>val_loss</th>\n",
       "    </tr>\n",
       "    <tr>\n",
       "      <th>epoch</th>\n",
       "      <th></th>\n",
       "      <th></th>\n",
       "      <th></th>\n",
       "    </tr>\n",
       "  </thead>\n",
       "  <tbody>\n",
       "    <tr>\n",
       "      <th>0</th>\n",
       "      <td>NaN</td>\n",
       "      <td>0.758767</td>\n",
       "      <td>1.072168</td>\n",
       "    </tr>\n",
       "    <tr>\n",
       "      <th>1</th>\n",
       "      <td>0.644961</td>\n",
       "      <td>NaN</td>\n",
       "      <td>NaN</td>\n",
       "    </tr>\n",
       "    <tr>\n",
       "      <th>1</th>\n",
       "      <td>NaN</td>\n",
       "      <td>0.925241</td>\n",
       "      <td>0.501563</td>\n",
       "    </tr>\n",
       "    <tr>\n",
       "      <th>2</th>\n",
       "      <td>NaN</td>\n",
       "      <td>0.939884</td>\n",
       "      <td>0.255306</td>\n",
       "    </tr>\n",
       "    <tr>\n",
       "      <th>3</th>\n",
       "      <td>0.216880</td>\n",
       "      <td>NaN</td>\n",
       "      <td>NaN</td>\n",
       "    </tr>\n",
       "  </tbody>\n",
       "</table>\n",
       "</div>"
      ],
      "text/plain": [
       "       train_loss   val_acc  val_loss\n",
       "epoch                                \n",
       "0             NaN  0.758767  1.072168\n",
       "1        0.644961       NaN       NaN\n",
       "1             NaN  0.925241  0.501563\n",
       "2             NaN  0.939884  0.255306\n",
       "3        0.216880       NaN       NaN"
      ]
     },
     "metadata": {},
     "output_type": "display_data"
    },
    {
     "data": {
      "text/plain": [
       "<seaborn.axisgrid.FacetGrid at 0x32878a460>"
      ]
     },
     "execution_count": 7,
     "metadata": {},
     "output_type": "execute_result"
    },
    {
     "data": {
      "image/png": "[encoded data removed]",
      "text/plain": [
       "<Figure size 616.125x500 with 1 Axes>"
      ]
     },
     "metadata": {},
     "output_type": "display_data"
    }
   ],
   "source": [
    "metrics = pd.read_csv(f\"{trainer.logger.log_dir}/metrics.csv\")\n",
    "del metrics[\"step\"]\n",
    "metrics.set_index(\"epoch\", inplace=True)\n",
    "display(metrics.dropna(axis=1, how=\"all\").head())\n",
    "sn.relplot(data=metrics, kind=\"line\")"
   ]
  },
  {
   "cell_type": "code",
   "execution_count": 8,
   "id": "f6dc1512-5f6d-46a3-8129-1cea54a92aa3",
   "metadata": {
    "scrolled": true
   },
   "outputs": [
    {
     "name": "stderr",
     "output_type": "stream",
     "text": [
      "/Users/keruiwu/anaconda3/envs/cpd/lib/python3.9/site-packages/lightning/pytorch/trainer/connectors/checkpoint_connector.py:145: `.test(ckpt_path=None)` was called without a model. The best model of the previous `fit` call will be used. You can pass `.test(ckpt_path='best')` to use the best model or `.test(ckpt_path='last')` to use the last model. If you pass a value, this warning will be silenced.\n",
      "Restoring states from the checkpoint path at logs/lightning_logs/version_1/checkpoints/epoch=9-step=280.ckpt\n",
      "Loaded model weights from the checkpoint at logs/lightning_logs/version_1/checkpoints/epoch=9-step=280.ckpt\n",
      "/Users/keruiwu/anaconda3/envs/cpd/lib/python3.9/site-packages/torch/utils/data/dataloader.py:557: UserWarning: This DataLoader will create 16 worker processes in total. Our suggested max number of worker in current system is 8 (`cpuset` is not taken into account), which is smaller than what this DataLoader is going to create. Please be aware that excessive worker creation might get DataLoader running slow or even freeze, lower the worker number to avoid potential slowness/freeze if necessary.\n",
      "  warnings.warn(_create_warning_msg(\n",
      "/Users/keruiwu/anaconda3/envs/cpd/lib/python3.9/site-packages/lightning/pytorch/trainer/connectors/data_connector.py:419: Consider setting `persistent_workers=True` in 'test_dataloader' to speed up the dataloader worker initialization.\n"
     ]
    },
    {
     "name": "stdout",
     "output_type": "stream",
     "text": [
      "Testing DataLoader 0: 100%|██████████| 6/6 [00:02<00:00,  2.01it/s]\n",
      "────────────────────────────────────────────────────────────────────────────────────────────────────────────────────────\n",
      "       Test metric             DataLoader 0\n",
      "────────────────────────────────────────────────────────────────────────────────────────────────────────────────────────\n",
      "        test_acc            0.9735357165336609\n",
      "        test_loss           0.08790729194879532\n",
      "────────────────────────────────────────────────────────────────────────────────────────────────────────────────────────\n"
     ]
    },
    {
     "data": {
      "text/plain": [
       "[{'test_loss': 0.08790729194879532, 'test_acc': 0.9735357165336609}]"
      ]
     },
     "execution_count": 8,
     "metadata": {},
     "output_type": "execute_result"
    }
   ],
   "source": [
    "# as expected our model performs well\n",
    "trainer.test()"
   ]
  },
  {
   "cell_type": "code",
   "execution_count": 10,
   "id": "46379ebe-33f9-468a-a833-4dfefc489f8d",
   "metadata": {},
   "outputs": [],
   "source": [
    "# save model weights so we can finetune from them later\n",
    "trainer.save_checkpoint(\"./model.ckpt\")\n",
    "torch.save(model.state_dict(), './model.pt')"
   ]
  },
  {
   "cell_type": "markdown",
   "id": "ad0a1f3b-6fe5-4839-b8d3-92f177c86ecb",
   "metadata": {},
   "source": [
    "# Finetune on second half of MNIST"
   ]
  },
  {
   "cell_type": "code",
   "execution_count": 11,
   "id": "2c2a53b7-4004-43fb-87a3-c5129bb38746",
   "metadata": {},
   "outputs": [],
   "source": [
    "# load the model - we refer to it as \"no training\" as we are going to use this initialization to show that the model performs poorly on the second half of mnist (as it wasn't trained on it)\n",
    "model_loaded_no_training = LitMNIST.load_from_checkpoint(checkpoint_path=\"model.ckpt\")"
   ]
  },
  {
   "cell_type": "code",
   "execution_count": 12,
   "id": "05702f82-da58-46c3-a3d7-1b985b167e9e",
   "metadata": {},
   "outputs": [],
   "source": [
    "# set it up to run on the second half of mnist (digits 5,6,7,8,9)\n",
    "model_loaded_no_training.class_names= [5,6,7,8,9]\n",
    "model_loaded_no_training.min_class = min(model_loaded_no_training.class_names)"
   ]
  },
  {
   "cell_type": "code",
   "execution_count": 13,
   "id": "a0b47dc5-e317-4fda-863a-e33013804f59",
   "metadata": {},
   "outputs": [
    {
     "name": "stderr",
     "output_type": "stream",
     "text": [
      "GPU available: True (mps), used: True\n",
      "TPU available: False, using: 0 TPU cores\n",
      "HPU available: False, using: 0 HPUs\n"
     ]
    },
    {
     "name": "stderr",
     "output_type": "stream",
     "text": [
      "\n",
      "  | Name          | Type               | Params | Mode \n",
      "-------------------------------------------------------------\n",
      "0 | l1            | Linear             | 50.2 K | train\n",
      "1 | l2            | Linear             | 4.2 K  | train\n",
      "2 | l3            | Linear             | 325    | train\n",
      "3 | dropout       | Dropout            | 0      | train\n",
      "4 | relu          | ReLU               | 0      | train\n",
      "5 | val_accuracy  | MulticlassAccuracy | 0      | train\n",
      "6 | test_accuracy | MulticlassAccuracy | 0      | train\n",
      "-------------------------------------------------------------\n",
      "54.7 K    Trainable params\n",
      "0         Non-trainable params\n",
      "54.7 K    Total params\n",
      "0.219     Total estimated model params size (MB)\n",
      "7         Modules in train mode\n",
      "0         Modules in eval mode\n"
     ]
    },
    {
     "name": "stdout",
     "output_type": "stream",
     "text": [
      "Sanity Checking: |          | 0/? [00:00<?, ?it/s]"
     ]
    },
    {
     "name": "stderr",
     "output_type": "stream",
     "text": [
      "/Users/keruiwu/anaconda3/envs/cpd/lib/python3.9/site-packages/torch/utils/data/dataloader.py:557: UserWarning: This DataLoader will create 16 worker processes in total. Our suggested max number of worker in current system is 8 (`cpuset` is not taken into account), which is smaller than what this DataLoader is going to create. Please be aware that excessive worker creation might get DataLoader running slow or even freeze, lower the worker number to avoid potential slowness/freeze if necessary.\n",
      "  warnings.warn(_create_warning_msg(\n",
      "/Users/keruiwu/anaconda3/envs/cpd/lib/python3.9/site-packages/lightning/pytorch/trainer/connectors/data_connector.py:419: Consider setting `persistent_workers=True` in 'val_dataloader' to speed up the dataloader worker initialization.\n"
     ]
    },
    {
     "name": "stdout",
     "output_type": "stream",
     "text": [
      "                                                                           \r"
     ]
    },
    {
     "name": "stderr",
     "output_type": "stream",
     "text": [
      "/Users/keruiwu/anaconda3/envs/cpd/lib/python3.9/site-packages/lightning/pytorch/trainer/connectors/data_connector.py:419: Consider setting `persistent_workers=True` in 'train_dataloader' to speed up the dataloader worker initialization.\n"
     ]
    },
    {
     "name": "stdout",
     "output_type": "stream",
     "text": [
      "Epoch 0:   0%|          | 1/26957 [00:10<76:16:09,  0.10it/s, v_num=2]"
     ]
    },
    {
     "name": "stderr",
     "output_type": "stream",
     "text": [
      "`Trainer.fit` stopped: `max_steps=1` reached.\n"
     ]
    },
    {
     "name": "stdout",
     "output_type": "stream",
     "text": [
      "Epoch 0:   0%|          | 1/26957 [00:10<76:22:25,  0.10it/s, v_num=2]\n"
     ]
    }
   ],
   "source": [
    "# we will train on the new data on exactly one element once (this is so we can access the trainer2.test() function, which allows us to easily evaluate how well our model works on the new data prior to training)\n",
    "model_loaded_no_training.batch_size = 1\n",
    "trainer_no_train = L.Trainer(\n",
    "    accelerator=\"auto\",\n",
    "    devices=1,\n",
    "    max_steps=1,\n",
    "    logger=CSVLogger(save_dir=\"logs/\"),\n",
    ")\n",
    "trainer_no_train.fit(model_loaded_no_training)"
   ]
  },
  {
   "cell_type": "code",
   "execution_count": 14,
   "id": "a7e6c74d-ca4a-4ca9-94c0-22e7ecaa8d25",
   "metadata": {},
   "outputs": [
    {
     "name": "stderr",
     "output_type": "stream",
     "text": [
      "/Users/keruiwu/anaconda3/envs/cpd/lib/python3.9/site-packages/lightning/pytorch/trainer/connectors/checkpoint_connector.py:145: `.test(ckpt_path=None)` was called without a model. The best model of the previous `fit` call will be used. You can pass `.test(ckpt_path='best')` to use the best model or `.test(ckpt_path='last')` to use the last model. If you pass a value, this warning will be silenced.\n",
      "Restoring states from the checkpoint path at logs/lightning_logs/version_2/checkpoints/epoch=0-step=1.ckpt\n",
      "Loaded model weights from the checkpoint at logs/lightning_logs/version_2/checkpoints/epoch=0-step=1.ckpt\n",
      "/Users/keruiwu/anaconda3/envs/cpd/lib/python3.9/site-packages/lightning/pytorch/trainer/connectors/data_connector.py:419: Consider setting `persistent_workers=True` in 'test_dataloader' to speed up the dataloader worker initialization.\n"
     ]
    },
    {
     "name": "stdout",
     "output_type": "stream",
     "text": [
      "Testing DataLoader 0: 100%|██████████| 4861/4861 [00:22<00:00, 219.09it/s]\n",
      "────────────────────────────────────────────────────────────────────────────────────────────────────────────────────────\n",
      "       Test metric             DataLoader 0\n",
      "────────────────────────────────────────────────────────────────────────────────────────────────────────────────────────\n",
      "        test_acc            0.3462250530719757\n",
      "        test_loss           2.7943942546844482\n",
      "────────────────────────────────────────────────────────────────────────────────────────────────────────────────────────\n"
     ]
    },
    {
     "data": {
      "text/plain": [
       "[{'test_loss': 2.7943942546844482, 'test_acc': 0.3462250530719757}]"
      ]
     },
     "execution_count": 14,
     "metadata": {},
     "output_type": "execute_result"
    }
   ],
   "source": [
    "# we can see our model performs extremely poorly on the new data that it hasn't seen, which is unsuprising. \n",
    "trainer_no_train.test()"
   ]
  },
  {
   "cell_type": "code",
   "execution_count": 15,
   "id": "336a997e-8ec7-42be-ae7c-d2646899222e",
   "metadata": {},
   "outputs": [
    {
     "name": "stderr",
     "output_type": "stream",
     "text": [
      "GPU available: True (mps), used: True\n",
      "TPU available: False, using: 0 TPU cores\n",
      "HPU available: False, using: 0 HPUs\n",
      "\n",
      "  | Name          | Type               | Params | Mode \n",
      "-------------------------------------------------------------\n",
      "0 | l1            | Linear             | 50.2 K | train\n",
      "1 | l2            | Linear             | 4.2 K  | train\n",
      "2 | l3            | Linear             | 325    | train\n",
      "3 | dropout       | Dropout            | 0      | train\n",
      "4 | relu          | ReLU               | 0      | train\n",
      "5 | val_accuracy  | MulticlassAccuracy | 0      | train\n",
      "6 | test_accuracy | MulticlassAccuracy | 0      | train\n",
      "-------------------------------------------------------------\n",
      "54.7 K    Trainable params\n",
      "0         Non-trainable params\n",
      "54.7 K    Total params\n",
      "0.219     Total estimated model params size (MB)\n",
      "7         Modules in train mode\n",
      "0         Modules in eval mode\n"
     ]
    },
    {
     "name": "stdout",
     "output_type": "stream",
     "text": [
      "                                                                           \r"
     ]
    },
    {
     "name": "stderr",
     "output_type": "stream",
     "text": [
      "/Users/keruiwu/anaconda3/envs/cpd/lib/python3.9/site-packages/lightning/pytorch/loops/fit_loop.py:298: The number of training batches (28) is smaller than the logging interval Trainer(log_every_n_steps=50). Set a lower value for log_every_n_steps if you want to see logs for the training epoch.\n"
     ]
    },
    {
     "name": "stdout",
     "output_type": "stream",
     "text": [
      "Epoch 9: 100%|██████████| 28/28 [00:27<00:00,  1.04it/s, v_num=3, val_loss=0.0728, val_acc=0.977]"
     ]
    },
    {
     "name": "stderr",
     "output_type": "stream",
     "text": [
      "`Trainer.fit` stopped: `max_epochs=10` reached.\n"
     ]
    },
    {
     "name": "stdout",
     "output_type": "stream",
     "text": [
      "Epoch 9: 100%|██████████| 28/28 [00:27<00:00,  1.04it/s, v_num=3, val_loss=0.0728, val_acc=0.977]\n"
     ]
    }
   ],
   "source": [
    "# now finetune e2e on the new data\n",
    "model_5_9 = LitMNIST.load_from_checkpoint(checkpoint_path=\"model.ckpt\")\n",
    "# set it up to run on the second half of mnist (digits 5,6,7,8,9)\n",
    "model_loaded_no_training.class_names= [5,6,7,8,9]\n",
    "model_loaded_no_training.min_class = min(model_loaded_no_training.class_names)\n",
    "\n",
    "trainer = L.Trainer(\n",
    "    accelerator=\"auto\",\n",
    "    devices=1,\n",
    "    max_epochs=10,\n",
    "    logger=CSVLogger(save_dir=\"logs/\"),\n",
    ")\n",
    "trainer.fit(model_5_9)"
   ]
  },
  {
   "cell_type": "code",
   "execution_count": 13,
   "id": "4fd0c776-ced6-48d2-bfc2-ebc5fb873ae6",
   "metadata": {},
   "outputs": [
    {
     "name": "stderr",
     "output_type": "stream",
     "text": [
      "Restoring states from the checkpoint path at logs/lightning_logs/version_3/checkpoints/epoch=9-step=280.ckpt\n",
      "LOCAL_RANK: 0 - CUDA_VISIBLE_DEVICES: [0]\n",
      "Loaded model weights from the checkpoint at logs/lightning_logs/version_3/checkpoints/epoch=9-step=280.ckpt\n"
     ]
    },
    {
     "name": "stdout",
     "output_type": "stream",
     "text": [
      "Testing DataLoader 0: 100%|███████████████████████| 6/6 [00:00<00:00, 37.82it/s]\n"
     ]
    },
    {
     "data": {
      "text/html": [
       "<pre style=\"white-space:pre;overflow-x:auto;line-height:normal;font-family:Menlo,'DejaVu Sans Mono',consolas,'Courier New',monospace\">┏━━━━━━━━━━━━━━━━━━━━━━━━━━━┳━━━━━━━━━━━━━━━━━━━━━━━━━━━┓\n",
       "┃<span style=\"font-weight: bold\">   Runningstage.testing    </span>┃<span style=\"font-weight: bold\">                           </span>┃\n",
       "┃<span style=\"font-weight: bold\">          metric           </span>┃<span style=\"font-weight: bold\">       DataLoader 0        </span>┃\n",
       "┡━━━━━━━━━━━━━━━━━━━━━━━━━━━╇━━━━━━━━━━━━━━━━━━━━━━━━━━━┩\n",
       "│<span style=\"color: #008080; text-decoration-color: #008080\">         test_acc          </span>│<span style=\"color: #800080; text-decoration-color: #800080\">    0.9844327569007874     </span>│\n",
       "│<span style=\"color: #008080; text-decoration-color: #008080\">         test_loss         </span>│<span style=\"color: #800080; text-decoration-color: #800080\">   0.053532421588897705    </span>│\n",
       "└───────────────────────────┴───────────────────────────┘\n",
       "</pre>\n"
      ],
      "text/plain": [
       "┏━━━━━━━━━━━━━━━━━━━━━━━━━━━┳━━━━━━━━━━━━━━━━━━━━━━━━━━━┓\n",
       "┃\u001b[1m \u001b[0m\u001b[1m  Runningstage.testing   \u001b[0m\u001b[1m \u001b[0m┃\u001b[1m                           \u001b[0m┃\n",
       "┃\u001b[1m \u001b[0m\u001b[1m         metric          \u001b[0m\u001b[1m \u001b[0m┃\u001b[1m \u001b[0m\u001b[1m      DataLoader 0       \u001b[0m\u001b[1m \u001b[0m┃\n",
       "┡━━━━━━━━━━━━━━━━━━━━━━━━━━━╇━━━━━━━━━━━━━━━━━━━━━━━━━━━┩\n",
       "│\u001b[36m \u001b[0m\u001b[36m        test_acc         \u001b[0m\u001b[36m \u001b[0m│\u001b[35m \u001b[0m\u001b[35m   0.9844327569007874    \u001b[0m\u001b[35m \u001b[0m│\n",
       "│\u001b[36m \u001b[0m\u001b[36m        test_loss        \u001b[0m\u001b[36m \u001b[0m│\u001b[35m \u001b[0m\u001b[35m  0.053532421588897705   \u001b[0m\u001b[35m \u001b[0m│\n",
       "└───────────────────────────┴───────────────────────────┘\n"
      ]
     },
     "metadata": {},
     "output_type": "display_data"
    },
    {
     "data": {
      "text/plain": [
       "[{'test_loss': 0.053532421588897705, 'test_acc': 0.9844327569007874}]"
      ]
     },
     "execution_count": 13,
     "metadata": {},
     "output_type": "execute_result"
    }
   ],
   "source": [
    "# unsuprisingly finetuning allows us to perform equally well on the second half of MNIST. However this approach would require us to save the ENTIRE model binary for each dataset we wanted to finetune our initial model on, which doesn't scale well.\n",
    "trainer.test()"
   ]
  },
  {
   "cell_type": "markdown",
   "id": "b37c4c1e-8141-4416-a0a1-1f8e596abd17",
   "metadata": {},
   "source": [
    "# Finetune on second half of MNIST using LoRA"
   ]
  },
  {
   "cell_type": "code",
   "execution_count": 3,
   "id": "27563e84-9d50-480c-9202-91d7b5ec518c",
   "metadata": {},
   "outputs": [],
   "source": [
    "class LitMNISTLoRA(L.LightningModule):\n",
    "    def __init__(self, data_dir=PATH_DATASETS, hidden_size=64, lr=2e-4, lora_rank = 8):\n",
    "        super().__init__()\n",
    "\n",
    "        # Set our init args as class attributes\n",
    "        self.data_dir = data_dir\n",
    "        self.hidden_size = hidden_size\n",
    "        self.lr = lr\n",
    "\n",
    "        # Hardcode some dataset specific attributes\n",
    "        self.class_names = [0,1,2,3,4]\n",
    "        self.min_class = min(self.class_names)\n",
    "        self.num_classes = len(self.class_names) \n",
    "        self.dims = (1, 28, 28) # the shape of an example (C x W x H)\n",
    "        channels, width, height = self.dims\n",
    "\n",
    "        self.transform = transforms.Compose(\n",
    "            [\n",
    "                transforms.ToTensor(),\n",
    "                transforms.Normalize((0.1307,), (0.3081,)),\n",
    "            ]\n",
    "        )\n",
    "\n",
    "        self.batch_size = 64\n",
    "        \n",
    "        # Define layers for model\n",
    "        self.l1 = nn.Linear(channels * width * height, hidden_size)\n",
    "        self.l2 = nn.Linear(hidden_size, hidden_size)\n",
    "        self.l3 = nn.Linear(hidden_size, self.num_classes)\n",
    "\n",
    "        self.dropout = nn.Dropout(0.1)\n",
    "        self.relu = nn.ReLU()\n",
    "\n",
    "        # Define lora hyperparameters\n",
    "        self.lora_rank = lora_rank # The rank 'r' for the low-rank adaptation\n",
    "        self.lora_alpha = 1 # lora scaling factor\n",
    "        \n",
    "        # layer 1 lora layers\n",
    "        self.l1_lora_A = nn.Parameter(torch.empty(channels * width * height, self.lora_rank))\n",
    "        self.l1_lora_B = nn.Parameter(torch.empty(self.lora_rank, hidden_size))\n",
    "\n",
    "        # layer 2 lora layers\n",
    "        self.l2_lora_A =  nn.Parameter(torch.empty(hidden_size, self.lora_rank))\n",
    "        self.l2_lora_B = nn.Parameter(torch.empty(self.lora_rank, hidden_size))\n",
    "\n",
    "        # layer 3 lora layers\n",
    "        self.l3_lora_A = nn.Parameter(torch.empty(hidden_size, self.lora_rank))\n",
    "        self.l3_lora_B = nn.Parameter(torch.empty(self.lora_rank, self.num_classes))\n",
    "        \n",
    "        # Define initialization for lora layers (this ensures that the model behavior is identital to to the original model prior to finetuning)\n",
    "        for n,p in self.named_parameters():\n",
    "            if 'lora' in n:\n",
    "                if n[-1]=='A':\n",
    "                    nn.init.kaiming_uniform_(p, a=math.sqrt(5))\n",
    "                elif n[-1]=='B':\n",
    "                    nn.init.zeros_(p)\n",
    "\n",
    "        # freeze non lora weights\n",
    "        for n,p in self.named_parameters():\n",
    "            if 'lora' not in n:\n",
    "                p.requires_grad = False\n",
    "        \n",
    "        # Define metrics\n",
    "        self.val_accuracy = Accuracy(task=\"multiclass\", num_classes=self.num_classes)\n",
    "        self.test_accuracy = Accuracy(task=\"multiclass\", num_classes=self.num_classes)\n",
    "\n",
    "\n",
    "    def lora_linear(self, x, layer, lora_A, lora_B):\n",
    "        # does the work of combining outputs from normal layer and lora layer for x\n",
    "        # notice that h is the sum of two separate operations on x\n",
    "        h = layer(x)\n",
    "        h += x@(lora_A @ lora_B)*self.lora_alpha\n",
    "        return h\n",
    "        \n",
    "    def forward(self, x):\n",
    "        # preprocessing\n",
    "        x = torch.flatten(x,1)\n",
    "        \n",
    "        # layer 1 (input size, hidden size)\n",
    "        x = self.lora_linear(x, self.l1, self.l1_lora_A, self.l1_lora_B)\n",
    "        x = self.relu(x)\n",
    "        x = self.dropout(x)\n",
    "\n",
    "        # layer 2 (hidden size, hidden size)\n",
    "        x = self.lora_linear(x, self.l2, self.l2_lora_A, self.l2_lora_B)\n",
    "        x = self.relu(x)\n",
    "        x = self.dropout(x)\n",
    "\n",
    "        #layer 3 (hidden size, self.num_classes)\n",
    "        x = self.lora_linear(x, self.l3, self.l3_lora_A, self.l3_lora_B)\n",
    "                    \n",
    "        # notice that we return the log probabilities here as that is what nll loss expects in the training step\n",
    "        return F.log_softmax(x, dim=1)\n",
    "\n",
    "    def common_step(self, batch, batch_idx):\n",
    "        # define steps all of {train, val, test} will take in one place\n",
    "        x, y = batch\n",
    "        # rescale y to be 0 indexed if necessary (like when we start using mnist 5-9)\n",
    "        if self.min_class != 0:\n",
    "            y = y - self.min_class\n",
    "        \n",
    "        logits = self(x)\n",
    "        loss = F.nll_loss(logits, y)\n",
    "        return x,y, logits, loss\n",
    "        \n",
    "        \n",
    "\n",
    "    def training_step(self, batch, batch_idx):\n",
    "        _, _, _, loss = self.common_step(batch, batch_idx)\n",
    "        self.log(\"train_loss\", loss, batch_size=self.batch_size)\n",
    "        return loss\n",
    "\n",
    "    def validation_step(self, batch, batch_idx):\n",
    "        x, y, logits, loss = self.common_step(batch, batch_idx)\n",
    "        preds = torch.argmax(logits, dim=1)\n",
    "        self.val_accuracy.update(preds, y)\n",
    "\n",
    "        self.log(\"val_loss\", loss, prog_bar=False)\n",
    "        self.log(\"val_acc\", self.val_accuracy, prog_bar=True)\n",
    "\n",
    "    def test_step(self, batch, batch_idx):\n",
    "        x, y, logits, loss = self.common_step(batch, batch_idx)\n",
    "        preds = torch.argmax(logits, dim=1)\n",
    "        self.test_accuracy.update(preds, y)\n",
    "\n",
    "        self.log(\"test_loss\", loss, prog_bar=True)\n",
    "        self.log(\"test_acc\", self.test_accuracy, prog_bar=True)\n",
    "    \n",
    "    def configure_optimizers(self):\n",
    "        # we'll use adamw to match the paper\n",
    "        optimizer = torch.optim.AdamW(self.parameters(), lr=self.lr)\n",
    "        scheduler = torch.optim.lr_scheduler.ReduceLROnPlateau(optimizer, 'min', patience=10)\n",
    "\n",
    "        return {\n",
    "        \"optimizer\": optimizer,\n",
    "        \"lr_scheduler\": {\n",
    "            \"scheduler\": scheduler,\n",
    "            \"monitor\": \"val_loss\",\n",
    "            \"frequency\": 1\n",
    "        },\n",
    "        }\n",
    "\n",
    "      \n",
    "    # the rest of the class is helper functions/hooks for configuring data/dataloader building\n",
    "    @staticmethod\n",
    "    def get_indices(dataset,class_names):\n",
    "        if isinstance(dataset, torch.utils.data.dataset.Subset):\n",
    "            targets = torch.tensor([dataset.dataset.targets[i] for i in dataset.indices])\n",
    "        else:\n",
    "            targets = dataset.targets\n",
    "\n",
    "            \n",
    "        indices =  []\n",
    "        for i in range(len(targets)):\n",
    "            if targets[i] in class_names:\n",
    "                indices.append(i)\n",
    "        return indices\n",
    "        \n",
    "    def create_dataloader(self,dataset):\n",
    "        idx = self.get_indices(dataset, self.class_names)\n",
    "        loader = DataLoader(dataset,batch_size=self.batch_size, sampler = SubsetRandomSampler(idx), num_workers=16) # Note - this necessarily shuffles the data due to the sampler we are using\n",
    "        return loader\n",
    "\n",
    "    def prepare_data(self):\n",
    "        # download data\n",
    "        MNIST(self.data_dir, train=True, download=True)\n",
    "        MNIST(self.data_dir, train=False, download=True)\n",
    "\n",
    "    def setup(self, stage=None):\n",
    "        # Assign train/val datasets for use in dataloaders\n",
    "        if stage == \"fit\" or stage is None:\n",
    "            mnist_full = MNIST(self.data_dir, train=True, transform=self.transform)\n",
    "            self.mnist_train, self.mnist_val = random_split(mnist_full, [55000, 5000])\n",
    "\n",
    "        # Assign test dataset for use in dataloader(s)\n",
    "        if stage == \"test\" or stage is None:\n",
    "            self.mnist_test = MNIST(self.data_dir, train=False, transform=self.transform)\n",
    "\n",
    "    def train_dataloader(self):\n",
    "        return self.create_dataloader(self.mnist_train)\n",
    "\n",
    "    def val_dataloader(self):\n",
    "        return self.create_dataloader(self.mnist_val)\n",
    "\n",
    "    def test_dataloader(self):\n",
    "        return self.create_dataloader(self.mnist_test)"
   ]
  },
  {
   "cell_type": "code",
   "execution_count": 7,
   "id": "44986317-f1ec-4b53-b68d-47b0db656ac1",
   "metadata": {
    "scrolled": true
   },
   "outputs": [],
   "source": [
    "# try lora finetuning with different lora ranks\n",
    "def lora_experiment(rank):\n",
    "    state_dict = torch.load(\"model.pt\")\n",
    "    model = LitMNISTLoRA(lora_rank=rank,)\n",
    "    model.load_state_dict(state_dict, strict=False)\n",
    "    model.class_names= [5,6,7,8,9]\n",
    "    model.min_class = min(model.class_names)\n",
    "    \n",
    "    from lightning.pytorch.callbacks import LearningRateMonitor\n",
    "    lr_monitor = LearningRateMonitor(logging_interval='step')\n",
    "    \n",
    "    trainer = L.Trainer(\n",
    "        accelerator=\"auto\",\n",
    "        devices=1,\n",
    "        max_epochs=10,\n",
    "        callbacks=[lr_monitor, EarlyStopping(monitor=\"val_loss\", mode=\"min\", patience=10)],\n",
    "\n",
    "        enable_progress_bar=True\n",
    "    )\n",
    "    \n",
    "    trainer.fit(model)\n",
    "    return trainer.test()[0]['test_acc']"
   ]
  },
  {
   "cell_type": "code",
   "execution_count": 8,
   "id": "b6dcee69-a9c7-4bb9-80a9-2bb5d8747cc9",
   "metadata": {
    "scrolled": true
   },
   "outputs": [
    {
     "name": "stderr",
     "output_type": "stream",
     "text": [
      "GPU available: True (mps), used: True\n",
      "TPU available: False, using: 0 TPU cores\n",
      "HPU available: False, using: 0 HPUs\n",
      "\n",
      "  | Name          | Type               | Params | Mode \n",
      "-------------------------------------------------------------\n",
      "0 | l1            | Linear             | 50.2 K | train\n",
      "1 | l2            | Linear             | 4.2 K  | train\n",
      "2 | l3            | Linear             | 325    | train\n",
      "3 | dropout       | Dropout            | 0      | train\n",
      "4 | relu          | ReLU               | 0      | train\n",
      "5 | val_accuracy  | MulticlassAccuracy | 0      | train\n",
      "6 | test_accuracy | MulticlassAccuracy | 0      | train\n",
      "  | other params  | n/a                | 8.4 K  | n/a  \n",
      "-------------------------------------------------------------\n",
      "8.4 K     Trainable params\n",
      "54.7 K    Non-trainable params\n",
      "63.1 K    Total params\n",
      "0.252     Total estimated model params size (MB)\n",
      "7         Modules in train mode\n",
      "0         Modules in eval mode\n"
     ]
    },
    {
     "name": "stdout",
     "output_type": "stream",
     "text": [
      "Sanity Checking: |          | 0/? [00:00<?, ?it/s]"
     ]
    },
    {
     "name": "stderr",
     "output_type": "stream",
     "text": [
      "/Users/keruiwu/anaconda3/envs/cpd/lib/python3.9/site-packages/torch/utils/data/dataloader.py:557: UserWarning: This DataLoader will create 16 worker processes in total. Our suggested max number of worker in current system is 8 (`cpuset` is not taken into account), which is smaller than what this DataLoader is going to create. Please be aware that excessive worker creation might get DataLoader running slow or even freeze, lower the worker number to avoid potential slowness/freeze if necessary.\n",
      "  warnings.warn(_create_warning_msg(\n",
      "/Users/keruiwu/anaconda3/envs/cpd/lib/python3.9/site-packages/lightning/pytorch/trainer/connectors/data_connector.py:419: Consider setting `persistent_workers=True` in 'val_dataloader' to speed up the dataloader worker initialization.\n"
     ]
    },
    {
     "name": "stdout",
     "output_type": "stream",
     "text": [
      "                                                                           \r"
     ]
    },
    {
     "name": "stderr",
     "output_type": "stream",
     "text": [
      "/Users/keruiwu/anaconda3/envs/cpd/lib/python3.9/site-packages/lightning/pytorch/trainer/connectors/data_connector.py:419: Consider setting `persistent_workers=True` in 'train_dataloader' to speed up the dataloader worker initialization.\n"
     ]
    },
    {
     "name": "stdout",
     "output_type": "stream",
     "text": [
      "Epoch 9: 100%|██████████| 422/422 [00:33<00:00, 12.71it/s, v_num=3, val_acc=0.953] "
     ]
    },
    {
     "name": "stderr",
     "output_type": "stream",
     "text": [
      "`Trainer.fit` stopped: `max_epochs=10` reached.\n"
     ]
    },
    {
     "name": "stdout",
     "output_type": "stream",
     "text": [
      "Epoch 9: 100%|██████████| 422/422 [00:33<00:00, 12.70it/s, v_num=3, val_acc=0.953]\n"
     ]
    },
    {
     "name": "stderr",
     "output_type": "stream",
     "text": [
      "/Users/keruiwu/anaconda3/envs/cpd/lib/python3.9/site-packages/lightning/pytorch/trainer/connectors/checkpoint_connector.py:145: `.test(ckpt_path=None)` was called without a model. The best model of the previous `fit` call will be used. You can pass `.test(ckpt_path='best')` to use the best model or `.test(ckpt_path='last')` to use the last model. If you pass a value, this warning will be silenced.\n",
      "Restoring states from the checkpoint path at /Users/keruiwu/Documents/RPI/ML&Opt/lightning_logs/version_3/checkpoints/epoch=9-step=4220.ckpt\n",
      "Loaded model weights from the checkpoint at /Users/keruiwu/Documents/RPI/ML&Opt/lightning_logs/version_3/checkpoints/epoch=9-step=4220.ckpt\n",
      "/Users/keruiwu/anaconda3/envs/cpd/lib/python3.9/site-packages/lightning/pytorch/trainer/connectors/data_connector.py:419: Consider setting `persistent_workers=True` in 'test_dataloader' to speed up the dataloader worker initialization.\n"
     ]
    },
    {
     "name": "stdout",
     "output_type": "stream",
     "text": [
      "Testing DataLoader 0: 100%|██████████| 76/76 [00:01<00:00, 54.26it/s]\n",
      "────────────────────────────────────────────────────────────────────────────────────────────────────────────────────────\n",
      "       Test metric             DataLoader 0\n",
      "────────────────────────────────────────────────────────────────────────────────────────────────────────────────────────\n",
      "        test_acc            0.9491873979568481\n",
      "        test_loss           0.15563635528087616\n",
      "────────────────────────────────────────────────────────────────────────────────────────────────────────────────────────\n"
     ]
    },
    {
     "name": "stderr",
     "output_type": "stream",
     "text": [
      "GPU available: True (mps), used: True\n",
      "TPU available: False, using: 0 TPU cores\n",
      "HPU available: False, using: 0 HPUs\n",
      "\n",
      "  | Name          | Type               | Params | Mode \n",
      "-------------------------------------------------------------\n",
      "0 | l1            | Linear             | 50.2 K | train\n",
      "1 | l2            | Linear             | 4.2 K  | train\n",
      "2 | l3            | Linear             | 325    | train\n",
      "3 | dropout       | Dropout            | 0      | train\n",
      "4 | relu          | ReLU               | 0      | train\n",
      "5 | val_accuracy  | MulticlassAccuracy | 0      | train\n",
      "6 | test_accuracy | MulticlassAccuracy | 0      | train\n",
      "  | other params  | n/a                | 16.7 K | n/a  \n",
      "-------------------------------------------------------------\n",
      "16.7 K    Trainable params\n",
      "54.7 K    Non-trainable params\n",
      "71.4 K    Total params\n",
      "0.286     Total estimated model params size (MB)\n",
      "7         Modules in train mode\n",
      "0         Modules in eval mode\n"
     ]
    },
    {
     "name": "stdout",
     "output_type": "stream",
     "text": [
      "{8: 0.9491873979568481}\n",
      "Epoch 9: 100%|██████████| 422/422 [00:34<00:00, 12.20it/s, v_num=4, val_acc=0.958]"
     ]
    },
    {
     "name": "stderr",
     "output_type": "stream",
     "text": [
      "`Trainer.fit` stopped: `max_epochs=10` reached.\n"
     ]
    },
    {
     "name": "stdout",
     "output_type": "stream",
     "text": [
      "Epoch 9: 100%|██████████| 422/422 [00:34<00:00, 12.19it/s, v_num=4, val_acc=0.958]\n"
     ]
    },
    {
     "name": "stderr",
     "output_type": "stream",
     "text": [
      "Restoring states from the checkpoint path at /Users/keruiwu/Documents/RPI/ML&Opt/lightning_logs/version_4/checkpoints/epoch=9-step=4220.ckpt\n",
      "Loaded model weights from the checkpoint at /Users/keruiwu/Documents/RPI/ML&Opt/lightning_logs/version_4/checkpoints/epoch=9-step=4220.ckpt\n"
     ]
    },
    {
     "name": "stdout",
     "output_type": "stream",
     "text": [
      "Testing DataLoader 0: 100%|██████████| 76/76 [00:01<00:00, 70.26it/s]\n",
      "────────────────────────────────────────────────────────────────────────────────────────────────────────────────────────\n",
      "       Test metric             DataLoader 0\n",
      "────────────────────────────────────────────────────────────────────────────────────────────────────────────────────────\n",
      "        test_acc            0.9561818838119507\n",
      "        test_loss           0.13809379935264587\n",
      "────────────────────────────────────────────────────────────────────────────────────────────────────────────────────────\n",
      "{8: 0.9491873979568481, 16: 0.9561818838119507}\n"
     ]
    }
   ],
   "source": [
    "results = {}\n",
    "for rank in [8, 16]:\n",
    "    result = lora_experiment(rank)\n",
    "    results[rank] = result\n",
    "    print(results)\n",
    "    "
   ]
  },
  {
   "cell_type": "markdown",
   "id": "29b7229c",
   "metadata": {},
   "source": [
    "## Analysis"
   ]
  },
  {
   "cell_type": "markdown",
   "id": "6a9458be-b334-4da8-be94-c42b36c72f01",
   "metadata": {},
   "source": [
    "| Model                      | Approx. Number of Trainable Parameters | Percent Trainable Parameters Relative to Baseline | Test Accuracy            |\n",
    "|----------------------------|----------------------------------------|--------------------------------------------------|---------------------------|\n",
    "| Baseline - Whole Model Finetune | 54,700                                | 1.00                                           | 0.9844327569007874                        |\n",
    "| LoRA Rank = 8              | 8,400                                  | 15.36%                                           | 0.949                      |\n",
    "| LoRA Rank = 16             | 16,700                                 | 30.53%                                           | 0.956                      |"
   ]
  },
  {
   "cell_type": "markdown",
   "id": "1775a336",
   "metadata": {},
   "source": []
  }
 ],
 "metadata": {
  "kernelspec": {
   "display_name": "cpd",
   "language": "python",
   "name": "python3"
  },
  "language_info": {
   "codemirror_mode": {
    "name": "ipython",
    "version": 3
   },
   "file_extension": ".py",
   "mimetype": "text/x-python",
   "name": "python",
   "nbconvert_exporter": "python",
   "pygments_lexer": "ipython3",
   "version": "3.9.19"
  }
 },
 "nbformat": 4,
 "nbformat_minor": 5
}
